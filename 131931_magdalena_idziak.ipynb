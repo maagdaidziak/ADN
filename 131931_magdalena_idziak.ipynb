{
  "nbformat": 4,
  "nbformat_minor": 0,
  "metadata": {
    "colab": {
      "provenance": [],
      "include_colab_link": true
    },
    "kernelspec": {
      "name": "python3",
      "display_name": "Python 3"
    },
    "language_info": {
      "name": "python"
    }
  },
  "cells": [
    {
      "cell_type": "markdown",
      "metadata": {
        "id": "view-in-github",
        "colab_type": "text"
      },
      "source": [
        "<a href=\"https://colab.research.google.com/github/maagdaidziak/ADN/blob/main/131931_magdalena_idziak.ipynb\" target=\"_parent\"><img src=\"https://colab.research.google.com/assets/colab-badge.svg\" alt=\"Open In Colab\"/></a>"
      ]
    },
    {
      "cell_type": "markdown",
      "source": [
        "# 1. Wstęp"
      ],
      "metadata": {
        "id": "MqktrpNysSYB"
      }
    },
    {
      "cell_type": "code",
      "source": [],
      "metadata": {
        "id": "EWvNX4LYuymg"
      },
      "execution_count": null,
      "outputs": []
    },
    {
      "cell_type": "markdown",
      "source": [
        "Ogólna informacja o zastosowanym podejściu i wyniku (z Kaggle wraz z nickiem). Streszczenie na 3-4 zdania. Akceptowany format: `qmd` i `ipynb` (preferowany colab). Proszę opisać również jak korzystali Państwo z LLMów na potrzeby tego projektu (jeżeli były wykorzystane).\n",
        "\n",
        "Plik proszę nazwać: `NIU_nazwisko_imie`."
      ],
      "metadata": {
        "id": "ZVM-qa1DsSVR"
      }
    },
    {
      "cell_type": "markdown",
      "source": [
        "# 2. Metodyka"
      ],
      "metadata": {
        "id": "EBlQQGYfsSS2"
      }
    },
    {
      "cell_type": "markdown",
      "source": [
        "Opis zaproponowanego podejścia. Proszę opisać do dokładnie Pan/i zrobiła w projekcie. Jakie podejście zastosowano, jako metody wykorzystano i z jakich narzędzi korzystano. Zwięzły opis na 3-4 akapity (po 5-8 zdań każdy)."
      ],
      "metadata": {
        "id": "MKgEc7jhsSQQ"
      }
    },
    {
      "cell_type": "markdown",
      "source": [
        "1. Program składa się z 3 głównych części: main, preprocess_data i train_model_bayes_search (oraz nieużyty finalnie train_model, który używał GridSearcha. Poniżej opisałam co zawiera każda część.\n",
        "\n",
        "\n",
        "2. Przetwarzanie danych:\n",
        "\n",
        "- Dodanie kolumny roku na podstawie 'date_active'.\n",
        "\n",
        "- Poprawienie typów danych na prawidłowe (object na bool), zamiana brakujących i nieprawidłowych wartości (np liczba pokoi <1, liczba metrów <0) na np.nan.\n",
        "\n",
        "- W kolumnach o typie danych \"bool\" zaimputowanie \"FALSE\" dla wszystkich brakujących wartości.\n",
        "\n",
        "\n",
        "- Dla flat_rooms\n",
        "  - imputacja wartości \"1\"  dla rekordów z \"kawale*\" w opisie.\n",
        "\n",
        "  - Imputacja  flat_rooms na podstawie ad_title (rekordy z fragmentem \"pokoj*\") przy pomocy biblioteki \"re\" funkcji extract_room_count.\n",
        "\n",
        "  - Imputacja flat_rooms dla rekordów z flat_area > 0 na podstawie knn = 3 z flat_area.\n",
        "\n",
        "  - Imputacja średnią dla pozostałych braków w flat_rooms.\n",
        "\n",
        "- Dla flat_area:\n",
        "  - Imputacja metodą knn = 3 na podstawie flat_rooms. Założenie, że mieszkania o tej samej liczbie pokoi mogą mieć podobną wielkość.\n",
        "\n",
        "- Dla quarter:\n",
        "   - Imputacja brakującej kolumny quarter na podstawie ad_title. Jeżeli ad_title zawiera słowo należace do zbioru dzielnic z kolumny quarter, imputujemy je.\n",
        "\n",
        "   - Dla pozostałych dzielnic, imputacja dzielnicy \"inne\"\n",
        "\n",
        "\n",
        "3. Trenowanie modelu:\n",
        "\n",
        "- Najpierw użyłam funkcji liniowej.\n",
        "- Następnie Decision Tree i Random Forest przy pomocy Grid Search z pliku train_model.\n",
        "- Następnie użyłam Random Search, który jest szybszy w szukaniu najlpeszych parametrów od Grid Search\n",
        "- Ostatecznie wybrałam BayesSearchCV (funkcja znajduje się w pliku train_model_bayes_search), który okazał się najlepszy w szukaniu optymalnych parametrów, jednak wyszukanie ich zabiera dużo czasu.\n",
        "\n",
        "\n",
        "4. Podsumowanie:\n",
        "\n"
      ],
      "metadata": {
        "id": "u0ntTzfwv2rd"
      }
    },
    {
      "cell_type": "code",
      "source": [],
      "metadata": {
        "id": "pu_tnJORHrAc"
      },
      "execution_count": null,
      "outputs": []
    },
    {
      "cell_type": "code",
      "source": [],
      "metadata": {
        "id": "YczD8Eqiv1vf"
      },
      "execution_count": null,
      "outputs": []
    },
    {
      "cell_type": "markdown",
      "source": [
        "# 3. Wyniki"
      ],
      "metadata": {
        "id": "vlUj41SlsSNw"
      }
    },
    {
      "cell_type": "markdown",
      "source": [
        "Proszę opisać uzyskane wyniki. Można pokazać jak zmieniały się wyniki na kaggle i w jaki sposób wybrano ostateczny model. Proszę podać ile razy sprawdzano zaproponowane rozwiazania."
      ],
      "metadata": {
        "id": "OgzxBfJGsSLS"
      }
    },
    {
      "cell_type": "markdown",
      "source": [
        "Trenowanie modelu i 10 predykcji. Wyniki zależały od sposobu imputacji danych i wybranego modelu. W nawiasach podałam wyniki MSE dla pliku train.\n",
        "\n",
        "1. Funkcja Liniowa (182225.62) dla\n",
        "        'flat_area', 'flat_rooms', 'year_activ'\n",
        "\n",
        "Imputacja flat_rooms z knn flat_area w przypadku rekordów z flat_area>0. Dla reszty średnia.\n",
        "Flat_area imputowane przy pomocy knn z flat_rooms.\n",
        "\n",
        "2. Grid Search dla\n",
        "        'flat_area', 'flat_rooms', 'year_activ'\n",
        "- Decision Tree (164590.03)\n",
        "- Random Forest (156813.83) dla parametrów: {'max_depth': 10, 'min_samples_leaf': 2, 'min_samples_split': 5, 'n_estimators': 50}\n",
        "\n",
        "3. Imputacja flat_rooms z ad_title (kawale* i regex dla większej liczby pokoi).\n",
        "Dla reszty rekordów flat_rooms ze średniej.\n",
        "Imputacja flat_area z knn flat_rooms.\n",
        "\n",
        "4. Dodanie kolumny 'year_active' z 'date_active'. Uwzględnienie jej w budowaniu modelu.\n",
        "\n",
        "4. Random Search - najlepszy wynik (109019.76) dla Random Forest dla parametrów.\n",
        "Dodanie\n",
        "        'flat_rent', 'flat_deposit', 'flat_for_students', 'building_floor_num', 'flat_balcony', 'flat_utility_room', 'flat_garage',\n",
        "        'flat_basement', 'flat_garden', 'flat_tarrace', 'flat_lift', 'flat_two_level', 'flat_kitchen_sep',\n",
        "        'flat_air_cond', 'flat_nonsmokers', 'flat_washmachine', 'flat_dishwasher', 'flat_fridge',\n",
        "        'flat_cooker', 'flat_oven', 'flat_internet', 'flat_television', 'flat_anti_blinds',\n",
        "        'flat_monitoring', 'flat_closed_area'\n",
        "\n",
        "{'max_depth': 22, 'min_samples_leaf': 1, 'min_samples_split': 2, 'n_estimators': 300}\n",
        "\n",
        "5. Imputacja brakujących 'quarter' na podstawie ad_title. Dla reszty rekordów imputacja 'other'. Użycie danych typu dummies.\n",
        "\n",
        "6. BayesSearchCV (XGBoost) w train_model_bayes_search:\n",
        "- Decision Tree: (130202.42)\n",
        "- Random Forest: (86920.66) dla parametrów: {'max_depth': 45, 'min_samples_leaf': 1, 'min_samples_split': 2, 'n_estimators': 300}"
      ],
      "metadata": {
        "id": "KgyRdKZGY-IF"
      }
    },
    {
      "cell_type": "markdown",
      "source": [
        "# 4. Podsumowanie"
      ],
      "metadata": {
        "id": "cLjVkczMsSFT"
      }
    },
    {
      "cell_type": "markdown",
      "source": [
        "Proszę krótko podsumować projekt, najpisać czego się Państwo nauczyli w trakcie tego projektu i czy imputacja danych faktycznie pomogła (czy moze nie?). Proszę podsumować Państwa doświadczenie z wykorzystania LLMów (o ile było) na potrzeby tego projektu."
      ],
      "metadata": {
        "id": "oW-C4_GNsdAh"
      }
    },
    {
      "cell_type": "markdown",
      "source": [
        "# 5. Kody do odtworzenia wyników"
      ],
      "metadata": {
        "id": "y5vxmRoNsc6y"
      }
    },
    {
      "cell_type": "markdown",
      "source": [
        "W tym miejscu powinien znajdować się kod, który po ustawnieniu ścieżki do pliku `train.csv` i `test.csv` będę mógł w CAŁOŚCI uruchiomić (bez błędów). Kod powinien być skomentowany i możliwy do uruchomienia. PROSZĘ SPRAWDZIĆ WSZYSTKO PRZED WYSŁANIEM ROZWIĄZAŃ!\n",
        "\n",
        "## 5.2. Proponowana struktura\n",
        "\n",
        "Sugerowana struktura sekcji z kodami\n",
        "\n",
        "+ (instalacja) wczytywanie pakietów\n",
        "+ wczytanie danych\n",
        "+ przetwarzanie\n",
        "+ predykcja\n",
        "+ zapis wyniku do CSV"
      ],
      "metadata": {
        "id": "CRCMaejFsR4l"
      }
    }
  ]
}